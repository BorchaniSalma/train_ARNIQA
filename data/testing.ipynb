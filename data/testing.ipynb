{
 "cells": [
  {
   "cell_type": "code",
   "execution_count": 8,
   "id": "775928a9-b089-4d07-a2dc-2efd8cc73fdd",
   "metadata": {
    "tags": []
   },
   "outputs": [],
   "source": [
    "import random\n",
    "import torch\n",
    "from torch.utils.data import Dataset\n",
    "from pathlib import Path\n",
    "from PIL import Image\n",
    "from torchvision import transforms\n",
    "import pandas as pd\n",
    "import numpy as np\n",
    "import matplotlib.pyplot as plt\n",
    "from astropy.io import fits\n",
    "from astropy.table import Table\n",
    "class DECAMDataset(Dataset):\n",
    "    \"\"\"\n",
    "    DECAM dataset class used for pre-training the encoders for IQA.\n",
    "\n",
    "    Args:\n",
    "        root (string): root directory of the dataset\n",
    "        patch_size (int): size of the patches to extract from the images\n",
    "        max_distortions (int): maximum number of distortions to apply to the images\n",
    "        num_levels (int): number of levels of distortion to apply to the images\n",
    "        pristine_prob (float): probability of not distorting the images\n",
    "\n",
    "    Returns:\n",
    "        dictionary with keys:\n",
    "            img_A_orig (Tensor): first view of the image pair\n",
    "            img_A_ds (Tensor): downsampled version of the first view of the image pair (scale factor 2)\n",
    "            img_B_orig (Tensor): second view of the image pair\n",
    "            img_B_ds (Tensor): downsampled version of the second view of the image pair (scale factor 2)\n",
    "            img_A_name (string): name of the image of the first view of the image pair\n",
    "            img_B_name (string): name of the image of the second view of the image pair\n",
    "            distortion_functions (list): list of the names of the distortion functions applied to the images\n",
    "            distortion_values (list): list of the values of the distortion functions applied to the images\n",
    "    \"\"\"\n",
    "    def __init__(self,\n",
    "                 root: str,\n",
    "                 patch_size: int = 224,\n",
    "                 max_distortions: int = 4,\n",
    "                 num_levels: int = 5,\n",
    "                 pristine_prob: float = 0.05):\n",
    "\n",
    "        root = Path(root)\n",
    "\n",
    "        \n",
    "        filenames_csv_path = \"../../data/decam_dr10_good_exp.csv\"\n",
    "        exp_df = pd.read_csv(filenames_csv_path, header=None, names=[\"expnum\"])\n",
    "\n",
    "        # Path to FITS file containing image data\n",
    "        file_path = \"/global/cfs/cdirs/cosmo/work/legacysurvey/dr10/survey-ccds-decam-dr10.fits.gz\"\n",
    "        image_table = Table.read(file_path)\n",
    "\n",
    "        # List to store paths of selected images\n",
    "        self.ref_images = []\n",
    "        self.hdu_numbers = []\n",
    "\n",
    "        test = image_table[:400]\n",
    "        idx = np.isin(test[\"expnum\"], exp_df[\"expnum\"])\n",
    "        matched_exp = test[idx]\n",
    "        self.ref_images =  matched_exp[\"image_filename\"]\n",
    "        self.hdu_numbers = matched_exp['image_hdu']\n",
    "\n",
    "\n",
    "        # Convert paths to Path objects\n",
    "        self.ref_images = [Path(root,path) for path in self.ref_images]\n",
    "\n",
    "        self.patch_size = patch_size\n",
    "        self.max_distortions = max_distortions\n",
    "        self.num_levels = num_levels\n",
    "        self.pristine_prob = pristine_prob\n",
    "\n",
    "        assert 0 <= self.max_distortions <= 7, \"The parameter max_distortions must be in the range [0, 7]\"\n",
    "        assert 1 <= self.num_levels <= 5, \"The parameter num_levels must be in the range [1, 5]\"\n",
    "        \n",
    "    def __getitem__(self, index: int) -> dict:\n",
    "        print(index)\n",
    "        \n",
    "        img_A_path = self.ref_images[index]\n",
    "        print(img_A_path)\n",
    "        hdu_number = self.hdu_numbers[index]\n",
    "\n",
    "        hdul_A = fits.open(img_A_path)\n",
    "        img_A = hdul_A[hdu_number].data\n",
    "        print(img_A)\n",
    "        # Select another exposure randomly\n",
    "        other_exp_index = np.random.choice(np.setdiff1d(range(len(self.ref_images)), [index]))\n",
    "        img_B_path = self.ref_images[other_exp_index]\n",
    "        hdul_B = fits.open(img_B_path)\n",
    "        img_B = hdul_B[hdu_number].data\n",
    "    \n",
    "\n",
    "        img_A_orig = transforms.ToTensor()(img_A_orig)\n",
    "        img_B_orig = transforms.ToTensor()(img_B_orig)\n",
    "\n",
    "        distort_functions_A = []\n",
    "        distort_values_A = []\n",
    "        distort_functions_B = []\n",
    "        distort_values_B = []\n",
    "\n",
    "\n",
    "        return {\n",
    "            \"img_A_orig\": img_A_orig,\"img_B_orig\": img_B_orig,\n",
    "        \n",
    "        }\n",
    "    def __len__(self) -> int:\n",
    "        return len(self.ref_images)\n"
   ]
  },
  {
   "cell_type": "code",
   "execution_count": 6,
   "id": "d761b8da-e680-4497-990b-773395958749",
   "metadata": {
    "tags": []
   },
   "outputs": [],
   "source": [
    "import argparse\n",
    "import torch\n",
    "from torch.utils.data import DataLoader\n",
    "from pathlib import Path\n",
    "import random\n",
    "import os\n",
    "import numpy as np\n",
    "\n",
    "\n",
    "\n",
    "    # Initialize the training dataset and dataloader\n",
    "train_dataset = DECAMDataset(root=\"/global/cfs/cdirs/cosmo/work/legacysurvey/dr10/images\",\n",
    "                                    patch_size=224,\n",
    "                                    max_distortions=4,\n",
    "                                    num_levels=5,\n",
    "                                    pristine_prob=0.05)\n"
   ]
  },
  {
   "cell_type": "code",
   "execution_count": 9,
   "id": "74872bf3-ab04-4862-b0c0-e44f905df574",
   "metadata": {
    "tags": []
   },
   "outputs": [
    {
     "name": "stdout",
     "output_type": "stream",
     "text": [
      "0\n",
      "/global/cfs/cdirs/cosmo/work/legacysurvey/dr10/images/decam/CP/V3.1.2/CP20140825/c4d_140825_015328_ooi_i_v1.fits.fz\n",
      "[[1653.6238 1784.6875 1745.4961 ... 1323.6549 1579.623  1378.1066]\n",
      " [1214.6892 1520.8129 1483.4412 ... 1310.9122 1528.0323 1304.8257]\n",
      " [1123.5559 1336.0892 1332.3662 ... 1315.0166 1441.5266 1293.9194]\n",
      " ...\n",
      " [1091.2863 1503.143  1289.112  ... 1543.8789 1838.7279 1293.9272]\n",
      " [1133.6361 1455.5337 1198.4419 ... 1445.0701 1701.9904 1332.0646]\n",
      " [1690.9584 1507.9193 1295.4703 ... 1573.3124 1840.6239 1608.7803]]\n"
     ]
    },
    {
     "ename": "UnboundLocalError",
     "evalue": "cannot access local variable 'img_A_orig' where it is not associated with a value",
     "output_type": "error",
     "traceback": [
      "\u001b[0;31m---------------------------------------------------------------------------\u001b[0m",
      "\u001b[0;31mUnboundLocalError\u001b[0m                         Traceback (most recent call last)",
      "Cell \u001b[0;32mIn[9], line 1\u001b[0m\n\u001b[0;32m----> 1\u001b[0m train_dataloader \u001b[38;5;241m=\u001b[39m \u001b[43mDECAMDataset\u001b[49m\u001b[38;5;241;43m.\u001b[39;49m\u001b[38;5;21;43m__getitem__\u001b[39;49m\u001b[43m(\u001b[49m\u001b[43mtrain_dataset\u001b[49m\u001b[43m,\u001b[49m\u001b[43m \u001b[49m\u001b[43mindex\u001b[49m\u001b[38;5;241;43m=\u001b[39;49m\u001b[38;5;241;43m0\u001b[39;49m\u001b[43m)\u001b[49m\n",
      "Cell \u001b[0;32mIn[8], line 90\u001b[0m, in \u001b[0;36mDECAMDataset.__getitem__\u001b[0;34m(self, index)\u001b[0m\n\u001b[1;32m     86\u001b[0m hdul_B \u001b[38;5;241m=\u001b[39m fits\u001b[38;5;241m.\u001b[39mopen(img_B_path)\n\u001b[1;32m     87\u001b[0m img_B \u001b[38;5;241m=\u001b[39m hdul_B[hdu_number]\u001b[38;5;241m.\u001b[39mdata\n\u001b[0;32m---> 90\u001b[0m img_A_orig \u001b[38;5;241m=\u001b[39m transforms\u001b[38;5;241m.\u001b[39mToTensor()(\u001b[43mimg_A_orig\u001b[49m)\n\u001b[1;32m     91\u001b[0m img_B_orig \u001b[38;5;241m=\u001b[39m transforms\u001b[38;5;241m.\u001b[39mToTensor()(img_B_orig)\n\u001b[1;32m     93\u001b[0m distort_functions_A \u001b[38;5;241m=\u001b[39m []\n",
      "\u001b[0;31mUnboundLocalError\u001b[0m: cannot access local variable 'img_A_orig' where it is not associated with a value"
     ]
    }
   ],
   "source": [
    "train_dataloader = DECAMDataset.__getitem__(train_dataset, index=0)\n"
   ]
  },
  {
   "cell_type": "code",
   "execution_count": null,
   "id": "dbd612ca-1370-4c95-b591-cdb976c99072",
   "metadata": {},
   "outputs": [],
   "source": []
  }
 ],
 "metadata": {
  "kernelspec": {
   "display_name": "NERSC Python",
   "language": "python",
   "name": "python3"
  },
  "language_info": {
   "codemirror_mode": {
    "name": "ipython",
    "version": 3
   },
   "file_extension": ".py",
   "mimetype": "text/x-python",
   "name": "python",
   "nbconvert_exporter": "python",
   "pygments_lexer": "ipython3",
   "version": "3.11.7"
  }
 },
 "nbformat": 4,
 "nbformat_minor": 5
}
